{
  "cells": [
    {
      "cell_type": "markdown",
      "metadata": {
        "id": "view-in-github"
      },
      "source": [
        "[![Open In Colab](https://colab.research.google.com/assets/colab-badge.svg)](https://colab.research.google.com/github/camenduru/TokenFlow-colab/blob/main/TokenFlow_colab.ipynb)"
      ]
    },
    {
      "cell_type": "code",
      "execution_count": null,
      "metadata": {
        "id": "VjYy0F2gZIPR"
      },
      "outputs": [],
      "source": [
        "%cd /content\n",
        "!git clone -b dev https://github.com/camenduru/tokenflow-hf\n",
        "!pip install -q diffusers ftfy transformers accelerate xformers==0.0.20 kornia av gradio\n",
        "!wget https://huggingface.co/spaces/weizmannscience/tokenflow/resolve/main/examples/woman-running.mp4 -O /content/tokenflow-hf/examples/woman-running.mp4\n",
        "!wget https://huggingface.co/spaces/weizmannscience/tokenflow/resolve/main/examples/running_dog.mp4 -O /content/tokenflow-hf/examples/running_dog.mp4\n",
        "%cd /content/tokenflow-hf\n",
        "!python app.py"
      ]
    }
  ],
  "metadata": {
    "accelerator": "GPU",
    "colab": {
      "gpuType": "T4",
      "provenance": []
    },
    "kernelspec": {
      "display_name": "Python 3",
      "name": "python3"
    },
    "language_info": {
      "name": "python"
    }
  },
  "nbformat": 4,
  "nbformat_minor": 0
}
